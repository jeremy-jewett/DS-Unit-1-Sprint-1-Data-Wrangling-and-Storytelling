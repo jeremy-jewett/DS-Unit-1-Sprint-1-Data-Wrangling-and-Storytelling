{
  "nbformat": 4,
  "nbformat_minor": 0,
  "metadata": {
    "colab": {
      "name": "Copy of colab_intro.ipynb",
      "provenance": [],
      "include_colab_link": true
    },
    "kernelspec": {
      "display_name": "Python 3",
      "language": "python",
      "name": "python3"
    },
    "language_info": {
      "codemirror_mode": {
        "name": "ipython",
        "version": 3
      },
      "file_extension": ".py",
      "mimetype": "text/x-python",
      "name": "python",
      "nbconvert_exporter": "python",
      "pygments_lexer": "ipython3",
      "version": "3.7.3"
    }
  },
  "cells": [
    {
      "cell_type": "markdown",
      "metadata": {
        "id": "view-in-github",
        "colab_type": "text"
      },
      "source": [
        "<a href=\"https://colab.research.google.com/github/jeremy-jewett/DS-Unit-1-Sprint-1-Data-Wrangling-and-Storytelling/blob/master/Copy_of_colab_intro.ipynb\" target=\"_parent\"><img src=\"https://colab.research.google.com/assets/colab-badge.svg\" alt=\"Open In Colab\"/></a>"
      ]
    },
    {
      "cell_type": "markdown",
      "metadata": {
        "colab_type": "text",
        "id": "kS-zSlbqnMab"
      },
      "source": [
        "## Five ways to read your data into a colab notebook"
      ]
    },
    {
      "cell_type": "markdown",
      "metadata": {
        "colab_type": "text",
        "id": "ooWH1zrTnUv5"
      },
      "source": [
        "[Keyboard shortcuts for colab](https://medium.com/@tuewithmorris/google-colab-notebooks-keyboard-shortcuts-aa6a008fb91b)"
      ]
    },
    {
      "cell_type": "code",
      "metadata": {
        "colab_type": "code",
        "id": "bOQsFNwQqGGu",
        "colab": {}
      },
      "source": [
        ""
      ],
      "execution_count": 0,
      "outputs": []
    },
    {
      "cell_type": "markdown",
      "metadata": {
        "colab_type": "text",
        "id": "zTxkbPxunfX_"
      },
      "source": [
        "#### Method 1. Read data directly from a URL."
      ]
    },
    {
      "cell_type": "code",
      "metadata": {
        "colab_type": "code",
        "id": "ArZQWu4sqkr-",
        "colab": {}
      },
      "source": [
        "# this is the simplest way to read in data\n",
        "# source: # https://opendata.dc.gov/datasets/bike-trails/data\n",
        "url = 'https://opendata.arcgis.com/datasets/e8c2b7ef54fb43d9a2ed1b0b75d0a14d_4.csv'\n"
      ],
      "execution_count": 0,
      "outputs": []
    },
    {
      "cell_type": "code",
      "metadata": {
        "colab_type": "code",
        "id": "96Xy0mdKyIco",
        "colab": {}
      },
      "source": [
        "# Sometimes you have to supply the column heads.\n",
        "column_headers = ['name', 'landmass', 'zone', 'area', 'population', 'language', \n",
        "                  'religion', 'bars', 'stripes', 'colours', 'red', 'green', \n",
        "                  'blue', 'gold', 'white', 'black', 'orange', 'mainhue', \n",
        "                  'circles', 'crosses', 'saltires', 'quarters', 'sunstars', \n",
        "                  'crescent', 'triangle', 'icon', 'animate', 'text', 'topleft', \n",
        "                  'botright']\n",
        "flag_data_url = 'https://archive.ics.uci.edu/ml/machine-learning-databases/flags/flag.data'\n"
      ],
      "execution_count": 0,
      "outputs": []
    },
    {
      "cell_type": "code",
      "metadata": {
        "colab_type": "code",
        "id": "rvidLCItqD_t",
        "colab": {}
      },
      "source": [
        "# Let's try another example.\n",
        "url='https://opendata.arcgis.com/datasets/2e65fc16edc3481989d2cc17e6f8c533_54.csv'\n",
        "# source: https://opendata.dc.gov/datasets/museums-in-dc/data"
      ],
      "execution_count": 0,
      "outputs": []
    },
    {
      "cell_type": "markdown",
      "metadata": {
        "colab_type": "text",
        "id": "grAuDrewxWxN"
      },
      "source": [
        "### Method 2. Read a file that is already in colab."
      ]
    },
    {
      "cell_type": "code",
      "metadata": {
        "colab_type": "code",
        "id": "F2SKljBayUzP",
        "colab": {}
      },
      "source": [
        "# So colab comes with some built in files.\n"
      ],
      "execution_count": 0,
      "outputs": []
    },
    {
      "cell_type": "code",
      "metadata": {
        "colab_type": "code",
        "id": "BRTviEe5yjlH",
        "colab": {}
      },
      "source": [
        "# you can also read a json file. Notice the difference in pandas method.\n"
      ],
      "execution_count": 0,
      "outputs": []
    },
    {
      "cell_type": "markdown",
      "metadata": {
        "colab_type": "text",
        "id": "qeHx6P28ytB4"
      },
      "source": [
        "### Method 3. Upload a file to colab.\n",
        "Reminder, uploaded files will get deleted when this runtime is recycled."
      ]
    },
    {
      "cell_type": "code",
      "metadata": {
        "colab_type": "code",
        "id": "t78DvRV2zgfa",
        "colab": {}
      },
      "source": [
        "# You can also use the manual upload GUI over on the left of your screen.\n"
      ],
      "execution_count": 0,
      "outputs": []
    },
    {
      "cell_type": "code",
      "metadata": {
        "colab_type": "code",
        "id": "m30HlA8uzwIR",
        "colab": {}
      },
      "source": [
        "# open the file"
      ],
      "execution_count": 0,
      "outputs": []
    },
    {
      "cell_type": "markdown",
      "metadata": {
        "colab_type": "text",
        "id": "-CSWxkb60T1X"
      },
      "source": [
        "###  Method 4. Read a file that's saved on github\n",
        "https://github.com/austinlasseter/dash-virginia-counties"
      ]
    },
    {
      "cell_type": "code",
      "metadata": {
        "colab_type": "code",
        "id": "xdrOK8Hb0oQC",
        "colab": {}
      },
      "source": [
        "# useful for reading raw data from github.\n",
        "url='https://raw.githubusercontent.com/austinlasseter/dash-virginia-counties/master/resources/acs2017_county_data.csv'\n",
        "# Source: https://github.com/austinlasseter/dash-virginia-counties/blob/master/resources/acs2017_county_data.csv"
      ],
      "execution_count": 0,
      "outputs": []
    },
    {
      "cell_type": "markdown",
      "metadata": {
        "colab_type": "text",
        "id": "CLkMz-Vr036O"
      },
      "source": [
        "### Method 5. Read a zip file."
      ]
    },
    {
      "cell_type": "code",
      "metadata": {
        "colab_type": "code",
        "id": "I7AK3MDR3TMR",
        "colab": {}
      },
      "source": [
        "# use the 'bang' for bash shell scripting.\n"
      ],
      "execution_count": 0,
      "outputs": []
    },
    {
      "cell_type": "code",
      "metadata": {
        "colab_type": "code",
        "id": "hjk1KJvz08ga",
        "colab": {}
      },
      "source": [
        "# the 'wget' command reads content from the web.\n",
        "# https://resources.lendingclub.com/LoanStats_2018Q4.csv.zip"
      ],
      "execution_count": 0,
      "outputs": []
    },
    {
      "cell_type": "code",
      "metadata": {
        "colab_type": "code",
        "id": "APhwauEt1F8w",
        "colab": {}
      },
      "source": [
        "# how do you unzip a .zip file in bash?\n"
      ],
      "execution_count": 0,
      "outputs": []
    },
    {
      "cell_type": "code",
      "metadata": {
        "colab_type": "code",
        "id": "d3KcFcwN33Uz",
        "colab": {}
      },
      "source": [
        "# Now you can read that csv file into pandas.\n"
      ],
      "execution_count": 0,
      "outputs": []
    },
    {
      "cell_type": "code",
      "metadata": {
        "colab_type": "code",
        "id": "f8Ngyd2q4cgP",
        "colab": {}
      },
      "source": [
        "# You can also save back to csv, but remember to skip the index.\n"
      ],
      "execution_count": 0,
      "outputs": []
    }
  ]
}